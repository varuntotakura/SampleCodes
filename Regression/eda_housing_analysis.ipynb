{
 "cells": [
  {
   "cell_type": "code",
   "execution_count": 1,
   "id": "88be7481",
   "metadata": {},
   "outputs": [
    {
     "data": {
      "text/html": [
       "<div>\n",
       "<style scoped>\n",
       "    .dataframe tbody tr th:only-of-type {\n",
       "        vertical-align: middle;\n",
       "    }\n",
       "\n",
       "    .dataframe tbody tr th {\n",
       "        vertical-align: top;\n",
       "    }\n",
       "\n",
       "    .dataframe thead th {\n",
       "        text-align: right;\n",
       "    }\n",
       "</style>\n",
       "<table border=\"1\" class=\"dataframe\">\n",
       "  <thead>\n",
       "    <tr style=\"text-align: right;\">\n",
       "      <th></th>\n",
       "      <th>MedInc</th>\n",
       "      <th>HouseAge</th>\n",
       "      <th>AveRooms</th>\n",
       "      <th>AveBedrms</th>\n",
       "      <th>Population</th>\n",
       "      <th>AveOccup</th>\n",
       "      <th>Latitude</th>\n",
       "      <th>Longitude</th>\n",
       "      <th>MedHouseVal</th>\n",
       "    </tr>\n",
       "  </thead>\n",
       "  <tbody>\n",
       "    <tr>\n",
       "      <th>0</th>\n",
       "      <td>8.3252</td>\n",
       "      <td>41.0</td>\n",
       "      <td>6.984127</td>\n",
       "      <td>1.023810</td>\n",
       "      <td>322.0</td>\n",
       "      <td>2.555556</td>\n",
       "      <td>37.88</td>\n",
       "      <td>-122.23</td>\n",
       "      <td>4.526</td>\n",
       "    </tr>\n",
       "    <tr>\n",
       "      <th>1</th>\n",
       "      <td>8.3014</td>\n",
       "      <td>21.0</td>\n",
       "      <td>6.238137</td>\n",
       "      <td>0.971880</td>\n",
       "      <td>2401.0</td>\n",
       "      <td>2.109842</td>\n",
       "      <td>37.86</td>\n",
       "      <td>-122.22</td>\n",
       "      <td>3.585</td>\n",
       "    </tr>\n",
       "    <tr>\n",
       "      <th>2</th>\n",
       "      <td>7.2574</td>\n",
       "      <td>52.0</td>\n",
       "      <td>8.288136</td>\n",
       "      <td>1.073446</td>\n",
       "      <td>496.0</td>\n",
       "      <td>2.802260</td>\n",
       "      <td>37.85</td>\n",
       "      <td>-122.24</td>\n",
       "      <td>3.521</td>\n",
       "    </tr>\n",
       "    <tr>\n",
       "      <th>3</th>\n",
       "      <td>5.6431</td>\n",
       "      <td>52.0</td>\n",
       "      <td>5.817352</td>\n",
       "      <td>1.073059</td>\n",
       "      <td>558.0</td>\n",
       "      <td>2.547945</td>\n",
       "      <td>37.85</td>\n",
       "      <td>-122.25</td>\n",
       "      <td>3.413</td>\n",
       "    </tr>\n",
       "    <tr>\n",
       "      <th>4</th>\n",
       "      <td>3.8462</td>\n",
       "      <td>52.0</td>\n",
       "      <td>6.281853</td>\n",
       "      <td>1.081081</td>\n",
       "      <td>565.0</td>\n",
       "      <td>2.181467</td>\n",
       "      <td>37.85</td>\n",
       "      <td>-122.25</td>\n",
       "      <td>3.422</td>\n",
       "    </tr>\n",
       "  </tbody>\n",
       "</table>\n",
       "</div>"
      ],
      "text/plain": [
       "   MedInc  HouseAge  AveRooms  AveBedrms  Population  AveOccup  Latitude  \\\n",
       "0  8.3252      41.0  6.984127   1.023810       322.0  2.555556     37.88   \n",
       "1  8.3014      21.0  6.238137   0.971880      2401.0  2.109842     37.86   \n",
       "2  7.2574      52.0  8.288136   1.073446       496.0  2.802260     37.85   \n",
       "3  5.6431      52.0  5.817352   1.073059       558.0  2.547945     37.85   \n",
       "4  3.8462      52.0  6.281853   1.081081       565.0  2.181467     37.85   \n",
       "\n",
       "   Longitude  MedHouseVal  \n",
       "0    -122.23        4.526  \n",
       "1    -122.22        3.585  \n",
       "2    -122.24        3.521  \n",
       "3    -122.25        3.413  \n",
       "4    -122.25        3.422  "
      ]
     },
     "execution_count": 1,
     "metadata": {},
     "output_type": "execute_result"
    }
   ],
   "source": [
    "\n",
    "# Imports\n",
    "import pandas as pd\n",
    "from eda import ExploratoryAnalysis\n",
    "\n",
    "# Load dataset (example: California housing from sklearn or local CSV)\n",
    "from sklearn.datasets import fetch_california_housing\n",
    "housing = fetch_california_housing(as_frame=True)\n",
    "df = housing.frame\n",
    "\n",
    "df.head()\n"
   ]
  },
  {
   "cell_type": "code",
   "execution_count": 2,
   "id": "ef230162",
   "metadata": {},
   "outputs": [],
   "source": [
    "\n",
    "# Initialize EDA analyzer\n",
    "analyzer = ExploratoryAnalysis(df)\n"
   ]
  },
  {
   "cell_type": "markdown",
   "id": "0d48ef46",
   "metadata": {},
   "source": [
    "### Basic summary of the dataset"
   ]
  },
  {
   "cell_type": "code",
   "execution_count": 3,
   "id": "5021e62e",
   "metadata": {},
   "outputs": [
    {
     "name": "stdout",
     "output_type": "stream",
     "text": [
      "\n",
      "Dataset Info:\n",
      "<class 'pandas.core.frame.DataFrame'>\n",
      "RangeIndex: 20640 entries, 0 to 20639\n",
      "Data columns (total 9 columns):\n",
      " #   Column       Non-Null Count  Dtype  \n",
      "---  ------       --------------  -----  \n",
      " 0   MedInc       20640 non-null  float64\n",
      " 1   HouseAge     20640 non-null  float64\n",
      " 2   AveRooms     20640 non-null  float64\n",
      " 3   AveBedrms    20640 non-null  float64\n",
      " 4   Population   20640 non-null  float64\n",
      " 5   AveOccup     20640 non-null  float64\n",
      " 6   Latitude     20640 non-null  float64\n",
      " 7   Longitude    20640 non-null  float64\n",
      " 8   MedHouseVal  20640 non-null  float64\n",
      "dtypes: float64(9)\n",
      "memory usage: 1.4 MB\n",
      "None\n",
      "\n",
      "Numerical Features Summary:\n",
      "             MedInc      HouseAge      AveRooms     AveBedrms    Population  \\\n",
      "count  20640.000000  20640.000000  20640.000000  20640.000000  20640.000000   \n",
      "mean       3.870671     28.639486      5.429000      1.096675   1425.476744   \n",
      "std        1.899822     12.585558      2.474173      0.473911   1132.462122   \n",
      "min        0.499900      1.000000      0.846154      0.333333      3.000000   \n",
      "25%        2.563400     18.000000      4.440716      1.006079    787.000000   \n",
      "50%        3.534800     29.000000      5.229129      1.048780   1166.000000   \n",
      "75%        4.743250     37.000000      6.052381      1.099526   1725.000000   \n",
      "max       15.000100     52.000000    141.909091     34.066667  35682.000000   \n",
      "\n",
      "           AveOccup      Latitude     Longitude   MedHouseVal  \n",
      "count  20640.000000  20640.000000  20640.000000  20640.000000  \n",
      "mean       3.070655     35.631861   -119.569704      2.068558  \n",
      "std       10.386050      2.135952      2.003532      1.153956  \n",
      "min        0.692308     32.540000   -124.350000      0.149990  \n",
      "25%        2.429741     33.930000   -121.800000      1.196000  \n",
      "50%        2.818116     34.260000   -118.490000      1.797000  \n",
      "75%        3.282261     37.710000   -118.010000      2.647250  \n",
      "max     1243.333333     41.950000   -114.310000      5.000010  \n",
      "\n",
      "Missing Values:\n",
      "No missing values found\n",
      "\n",
      "Feature Correlations with Target:\n",
      "MedHouseVal    1.000000\n",
      "MedInc         0.688075\n",
      "AveRooms       0.151948\n",
      "HouseAge       0.105623\n",
      "AveOccup      -0.023737\n",
      "Population    -0.024650\n",
      "Longitude     -0.045967\n",
      "AveBedrms     -0.046701\n",
      "Latitude      -0.144160\n",
      "Name: MedHouseVal, dtype: float64\n"
     ]
    }
   ],
   "source": [
    "analyzer.basic_summary()"
   ]
  },
  {
   "cell_type": "markdown",
   "id": "a74d4895",
   "metadata": {},
   "source": [
    "### Detailed statistical description by data type"
   ]
  },
  {
   "cell_type": "code",
   "execution_count": 4,
   "id": "001dd07f",
   "metadata": {},
   "outputs": [
    {
     "data": {
      "text/plain": [
       "{'numeric':              MedInc      HouseAge      AveRooms     AveBedrms    Population  \\\n",
       " count  20640.000000  20640.000000  20640.000000  20640.000000  20640.000000   \n",
       " mean       3.870671     28.639486      5.429000      1.096675   1425.476744   \n",
       " std        1.899822     12.585558      2.474173      0.473911   1132.462122   \n",
       " min        0.499900      1.000000      0.846154      0.333333      3.000000   \n",
       " 25%        2.563400     18.000000      4.440716      1.006079    787.000000   \n",
       " 50%        3.534800     29.000000      5.229129      1.048780   1166.000000   \n",
       " 75%        4.743250     37.000000      6.052381      1.099526   1725.000000   \n",
       " max       15.000100     52.000000    141.909091     34.066667  35682.000000   \n",
       " \n",
       "            AveOccup      Latitude     Longitude   MedHouseVal  \n",
       " count  20640.000000  20640.000000  20640.000000  20640.000000  \n",
       " mean       3.070655     35.631861   -119.569704      2.068558  \n",
       " std       10.386050      2.135952      2.003532      1.153956  \n",
       " min        0.692308     32.540000   -124.350000      0.149990  \n",
       " 25%        2.429741     33.930000   -121.800000      1.196000  \n",
       " 50%        2.818116     34.260000   -118.490000      1.797000  \n",
       " 75%        3.282261     37.710000   -118.010000      2.647250  \n",
       " max     1243.333333     41.950000   -114.310000      5.000010  }"
      ]
     },
     "execution_count": 4,
     "metadata": {},
     "output_type": "execute_result"
    }
   ],
   "source": [
    "analyzer.describe_data()"
   ]
  },
  {
   "cell_type": "markdown",
   "id": "f53e84fc",
   "metadata": {},
   "source": [
    "### Correlation matrix with significance test"
   ]
  },
  {
   "cell_type": "code",
   "execution_count": 5,
   "id": "25645a5d",
   "metadata": {},
   "outputs": [
    {
     "ename": "AttributeError",
     "evalue": "'ExploratoryAnalysis' object has no attribute 'correlation_analysis'",
     "output_type": "error",
     "traceback": [
      "\u001b[1;31m---------------------------------------------------------------------------\u001b[0m",
      "\u001b[1;31mAttributeError\u001b[0m                            Traceback (most recent call last)",
      "Cell \u001b[1;32mIn [5], line 1\u001b[0m\n\u001b[1;32m----> 1\u001b[0m \u001b[43manalyzer\u001b[49m\u001b[38;5;241;43m.\u001b[39;49m\u001b[43mcorrelation_analysis\u001b[49m(method\u001b[38;5;241m=\u001b[39m\u001b[38;5;124m'\u001b[39m\u001b[38;5;124mpearson\u001b[39m\u001b[38;5;124m'\u001b[39m, threshold\u001b[38;5;241m=\u001b[39m\u001b[38;5;241m0.8\u001b[39m)\n",
      "\u001b[1;31mAttributeError\u001b[0m: 'ExploratoryAnalysis' object has no attribute 'correlation_analysis'"
     ]
    }
   ],
   "source": [
    "analyzer.correlation_analysis(method='pearson', threshold=0.8)"
   ]
  },
  {
   "cell_type": "markdown",
   "id": "94bd48fe",
   "metadata": {},
   "source": [
    "### Distribution analysis with normality test"
   ]
  },
  {
   "cell_type": "code",
   "execution_count": 6,
   "id": "810a9c37",
   "metadata": {},
   "outputs": [
    {
     "ename": "AttributeError",
     "evalue": "'ExploratoryAnalysis' object has no attribute 'distribution_analysis'",
     "output_type": "error",
     "traceback": [
      "\u001b[1;31m---------------------------------------------------------------------------\u001b[0m",
      "\u001b[1;31mAttributeError\u001b[0m                            Traceback (most recent call last)",
      "Cell \u001b[1;32mIn [6], line 1\u001b[0m\n\u001b[1;32m----> 1\u001b[0m \u001b[43manalyzer\u001b[49m\u001b[38;5;241;43m.\u001b[39;49m\u001b[43mdistribution_analysis\u001b[49m()\n",
      "\u001b[1;31mAttributeError\u001b[0m: 'ExploratoryAnalysis' object has no attribute 'distribution_analysis'"
     ]
    }
   ],
   "source": [
    "analyzer.distribution_analysis()"
   ]
  },
  {
   "cell_type": "markdown",
   "id": "71931a71",
   "metadata": {},
   "source": [
    "### Outlier detection using IQR"
   ]
  },
  {
   "cell_type": "code",
   "execution_count": 7,
   "id": "275d2cf2",
   "metadata": {},
   "outputs": [
    {
     "ename": "AttributeError",
     "evalue": "'ExploratoryAnalysis' object has no attribute 'outlier_analysis'",
     "output_type": "error",
     "traceback": [
      "\u001b[1;31m---------------------------------------------------------------------------\u001b[0m",
      "\u001b[1;31mAttributeError\u001b[0m                            Traceback (most recent call last)",
      "Cell \u001b[1;32mIn [7], line 1\u001b[0m\n\u001b[1;32m----> 1\u001b[0m \u001b[43manalyzer\u001b[49m\u001b[38;5;241;43m.\u001b[39;49m\u001b[43moutlier_analysis\u001b[49m(method\u001b[38;5;241m=\u001b[39m\u001b[38;5;124m'\u001b[39m\u001b[38;5;124miqr\u001b[39m\u001b[38;5;124m'\u001b[39m, threshold\u001b[38;5;241m=\u001b[39m\u001b[38;5;241m1.5\u001b[39m)\n",
      "\u001b[1;31mAttributeError\u001b[0m: 'ExploratoryAnalysis' object has no attribute 'outlier_analysis'"
     ]
    }
   ],
   "source": [
    "analyzer.outlier_analysis(method='iqr', threshold=1.5)"
   ]
  },
  {
   "cell_type": "markdown",
   "id": "bdd40c68",
   "metadata": {},
   "source": [
    "### Outlier detection using Z-score"
   ]
  },
  {
   "cell_type": "code",
   "execution_count": 8,
   "id": "c045d38c",
   "metadata": {},
   "outputs": [
    {
     "ename": "AttributeError",
     "evalue": "'ExploratoryAnalysis' object has no attribute 'outlier_analysis'",
     "output_type": "error",
     "traceback": [
      "\u001b[1;31m---------------------------------------------------------------------------\u001b[0m",
      "\u001b[1;31mAttributeError\u001b[0m                            Traceback (most recent call last)",
      "Cell \u001b[1;32mIn [8], line 1\u001b[0m\n\u001b[1;32m----> 1\u001b[0m \u001b[43manalyzer\u001b[49m\u001b[38;5;241;43m.\u001b[39;49m\u001b[43moutlier_analysis\u001b[49m(method\u001b[38;5;241m=\u001b[39m\u001b[38;5;124m'\u001b[39m\u001b[38;5;124mzscore\u001b[39m\u001b[38;5;124m'\u001b[39m, threshold\u001b[38;5;241m=\u001b[39m\u001b[38;5;241m2.0\u001b[39m)\n",
      "\u001b[1;31mAttributeError\u001b[0m: 'ExploratoryAnalysis' object has no attribute 'outlier_analysis'"
     ]
    }
   ],
   "source": [
    "analyzer.outlier_analysis(method='zscore', threshold=2.0)"
   ]
  },
  {
   "cell_type": "markdown",
   "id": "8c2d39c2",
   "metadata": {},
   "source": [
    "### Display collected insights"
   ]
  },
  {
   "cell_type": "code",
   "execution_count": 9,
   "id": "f1f6ab2c",
   "metadata": {},
   "outputs": [
    {
     "ename": "AttributeError",
     "evalue": "'ExploratoryAnalysis' object has no attribute 'get_insights'",
     "output_type": "error",
     "traceback": [
      "\u001b[1;31m---------------------------------------------------------------------------\u001b[0m",
      "\u001b[1;31mAttributeError\u001b[0m                            Traceback (most recent call last)",
      "Cell \u001b[1;32mIn [9], line 1\u001b[0m\n\u001b[1;32m----> 1\u001b[0m \u001b[43manalyzer\u001b[49m\u001b[38;5;241;43m.\u001b[39;49m\u001b[43mget_insights\u001b[49m()\n",
      "\u001b[1;31mAttributeError\u001b[0m: 'ExploratoryAnalysis' object has no attribute 'get_insights'"
     ]
    }
   ],
   "source": [
    "analyzer.get_insights()"
   ]
  },
  {
   "cell_type": "code",
   "execution_count": null,
   "id": "81507174",
   "metadata": {},
   "outputs": [],
   "source": []
  }
 ],
 "metadata": {
  "kernelspec": {
   "display_name": "Python 3",
   "language": "python",
   "name": "python3"
  },
  "language_info": {
   "codemirror_mode": {
    "name": "ipython",
    "version": 3
   },
   "file_extension": ".py",
   "mimetype": "text/x-python",
   "name": "python",
   "nbconvert_exporter": "python",
   "pygments_lexer": "ipython3",
   "version": "3.9.11"
  }
 },
 "nbformat": 4,
 "nbformat_minor": 5
}
